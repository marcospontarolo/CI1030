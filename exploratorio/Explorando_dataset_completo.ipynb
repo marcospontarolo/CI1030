{
 "cells": [
  {
   "cell_type": "code",
   "execution_count": 1,
   "metadata": {},
   "outputs": [],
   "source": [
    "import numpy as np \n",
    "from sklearn.preprocessing import LabelBinarizer\n",
    "import pandas as pd \n",
    "import matplotlib.pyplot as plt \n",
    "from sklearn import preprocessing\n",
    "from sklearn.tree import DecisionTreeClassifier\n",
    "from sklearn.feature_selection import RFE\n",
    "from sklearn.feature_selection import RFECV\n",
    "from sklearn.utils import shuffle\n"
   ]
  },
  {
   "cell_type": "code",
   "execution_count": 2,
   "metadata": {},
   "outputs": [
    {
     "name": "stderr",
     "output_type": "stream",
     "text": [
      "/home/vinny/anaconda3/lib/python3.8/site-packages/IPython/core/interactiveshell.py:3146: DtypeWarning: Columns (84) have mixed types.Specify dtype option on import or set low_memory=False.\n",
      "  has_raised = await self.run_ast_nodes(code_ast.body, cell_name,\n"
     ]
    }
   ],
   "source": [
    "df = pd.read_csv(\"dataset/dataset_completo.csv\")"
   ]
  },
  {
   "cell_type": "code",
   "execution_count": 3,
   "metadata": {},
   "outputs": [
    {
     "data": {
      "text/plain": [
       "<bound method NDFrame.describe of                                        Flow ID     Source IP  Source Port  \\\n",
       "0          192.168.50.7-72.21.91.29-51679-80-6  192.168.50.7        51679   \n",
       "1        172.217.3.98-192.168.50.8-443-59431-6  192.168.50.8        59431   \n",
       "2        192.168.10.50-192.168.50.8-22-59435-6  192.168.50.8        59435   \n",
       "3             192.168.50.6-8.8.8.8-52025-53-17  192.168.50.6        52025   \n",
       "4         172.217.7.3-192.168.50.8-443-59408-6   172.217.7.3          443   \n",
       "...                                        ...           ...          ...   \n",
       "153626  172.16.0.5-192.168.50.1-47613-56139-17    172.16.0.5        47613   \n",
       "153627  172.16.0.5-192.168.50.1-43815-54076-17    172.16.0.5        43815   \n",
       "153628  172.16.0.5-192.168.50.1-36421-59285-17    172.16.0.5        36421   \n",
       "153629  172.16.0.5-192.168.50.1-49369-48106-17    172.16.0.5        49369   \n",
       "153630  172.16.0.5-192.168.50.1-40741-30249-17    172.16.0.5        40741   \n",
       "\n",
       "       Destination IP  Destination Port  Protocol                   Timestamp  \\\n",
       "0         72.21.91.29                80         6  2018-12-01 11:30:55.414837   \n",
       "1        172.217.3.98               443         6  2018-12-01 11:32:00.228101   \n",
       "2       192.168.10.50                22         6  2018-12-01 11:32:15.490410   \n",
       "3             8.8.8.8                53        17  2018-12-01 11:26:03.343236   \n",
       "4        192.168.50.8             59408         6  2018-12-01 11:31:58.200510   \n",
       "...               ...               ...       ...                         ...   \n",
       "153626   192.168.50.1             56139        17  2018-12-01 12:27:46.246365   \n",
       "153627   192.168.50.1             54076        17  2018-12-01 12:28:16.574147   \n",
       "153628   192.168.50.1             59285        17  2018-12-01 12:28:49.312614   \n",
       "153629   192.168.50.1             48106        17  2018-12-01 12:33:12.835477   \n",
       "153630   192.168.50.1             30249        17  2018-12-01 12:30:59.560418   \n",
       "\n",
       "        Flow Duration  Total Fwd Packets  Total Backward Packets  ...  \\\n",
       "0               28456                  2                       2  ...   \n",
       "1                   1                  2                       0  ...   \n",
       "2             6005918                  4                       0  ...   \n",
       "3               71590                  2                       2  ...   \n",
       "4                   1                  2                       0  ...   \n",
       "...               ...                ...                     ...  ...   \n",
       "153626         108902                  4                       0  ...   \n",
       "153627              1                  2                       0  ...   \n",
       "153628         104895                  4                       0  ...   \n",
       "153629              2                  2                       0  ...   \n",
       "153630              3                  2                       0  ...   \n",
       "\n",
       "        Active Std  Active Max  Active Min  Idle Mean  Idle Std   Idle Max  \\\n",
       "0              0.0         0.0         0.0        0.0       0.0        0.0   \n",
       "1              0.0         0.0         0.0        0.0       0.0        0.0   \n",
       "2              0.0         1.0         1.0  6005916.0       0.0  6005916.0   \n",
       "3              0.0         0.0         0.0        0.0       0.0        0.0   \n",
       "4              0.0         0.0         0.0        0.0       0.0        0.0   \n",
       "...            ...         ...         ...        ...       ...        ...   \n",
       "153626         0.0         0.0         0.0        0.0       0.0        0.0   \n",
       "153627         0.0         0.0         0.0        0.0       0.0        0.0   \n",
       "153628         0.0         0.0         0.0        0.0       0.0        0.0   \n",
       "153629         0.0         0.0         0.0        0.0       0.0        0.0   \n",
       "153630         0.0         0.0         0.0        0.0       0.0        0.0   \n",
       "\n",
       "         Idle Min  SimillarHTTP  Inbound       Label  \n",
       "0             0.0             0        0      BENIGN  \n",
       "1             0.0             0        0      BENIGN  \n",
       "2       6005916.0             0        1      BENIGN  \n",
       "3             0.0             0        0      BENIGN  \n",
       "4             0.0             0        1      BENIGN  \n",
       "...           ...           ...      ...         ...  \n",
       "153626        0.0             0        1  DrDoS_SSDP  \n",
       "153627        0.0             0        1  DrDoS_SSDP  \n",
       "153628        0.0             0        1  DrDoS_SSDP  \n",
       "153629        0.0             0        1  DrDoS_SSDP  \n",
       "153630        0.0             0        1  DrDoS_SSDP  \n",
       "\n",
       "[153631 rows x 87 columns]>"
      ]
     },
     "execution_count": 3,
     "metadata": {},
     "output_type": "execute_result"
    }
   ],
   "source": [
    "df.describe"
   ]
  },
  {
   "cell_type": "code",
   "execution_count": 4,
   "metadata": {},
   "outputs": [
    {
     "name": "stdout",
     "output_type": "stream",
     "text": [
      "Flow ID\n",
      "Source IP\n",
      "Source Port\n",
      "Destination IP\n",
      "Destination Port\n",
      "Protocol\n",
      "Timestamp\n",
      "Flow Duration\n",
      "Total Fwd Packets\n",
      "Total Backward Packets\n",
      "Total Length of Fwd Packets\n",
      "Total Length of Bwd Packets\n",
      "Fwd Packet Length Max\n",
      "Fwd Packet Length Min\n",
      "Fwd Packet Length Mean\n",
      "Fwd Packet Length Std\n",
      "Bwd Packet Length Max\n",
      "Bwd Packet Length Min\n",
      "Bwd Packet Length Mean\n",
      "Bwd Packet Length Std\n",
      "Flow Bytes/s\n",
      "Flow Packets/s\n",
      "Flow IAT Mean\n",
      "Flow IAT Std\n",
      "Flow IAT Max\n",
      "Flow IAT Min\n",
      "Fwd IAT Total\n",
      "Fwd IAT Mean\n",
      "Fwd IAT Std\n",
      "Fwd IAT Max\n",
      "Fwd IAT Min\n",
      "Bwd IAT Total\n",
      "Bwd IAT Mean\n",
      "Bwd IAT Std\n",
      "Bwd IAT Max\n",
      "Bwd IAT Min\n",
      "Fwd PSH Flags\n",
      "Bwd PSH Flags\n",
      "Fwd URG Flags\n",
      "Bwd URG Flags\n",
      "Fwd Header Length\n",
      "Bwd Header Length\n",
      "Fwd Packets/s\n",
      "Bwd Packets/s\n",
      "Min Packet Length\n",
      "Max Packet Length\n",
      "Packet Length Mean\n",
      "Packet Length Std\n",
      "Packet Length Variance\n",
      "FIN Flag Count\n",
      "SYN Flag Count\n",
      "RST Flag Count\n",
      "PSH Flag Count\n",
      "ACK Flag Count\n",
      "URG Flag Count\n",
      "CWE Flag Count\n",
      "ECE Flag Count\n",
      "Down/Up Ratio\n",
      "Average Packet Size\n",
      "Avg Fwd Segment Size\n",
      "Avg Bwd Segment Size\n",
      "Fwd Header Length.1\n",
      "Fwd Avg Bytes/Bulk\n",
      "Fwd Avg Packets/Bulk\n",
      "Fwd Avg Bulk Rate\n",
      "Bwd Avg Bytes/Bulk\n",
      "Bwd Avg Packets/Bulk\n",
      "Bwd Avg Bulk Rate\n",
      "Subflow Fwd Packets\n",
      "Subflow Fwd Bytes\n",
      "Subflow Bwd Packets\n",
      "Subflow Bwd Bytes\n",
      "Init_Win_bytes_forward\n",
      "Init_Win_bytes_backward\n",
      "act_data_pkt_fwd\n",
      "min_seg_size_forward\n",
      "Active Mean\n",
      "Active Std\n",
      "Active Max\n",
      "Active Min\n",
      "Idle Mean\n",
      "Idle Std\n",
      "Idle Max\n",
      "Idle Min\n",
      "SimillarHTTP\n",
      "Inbound\n",
      "Label\n"
     ]
    }
   ],
   "source": [
    "#printando as colunas\n",
    "for col in df.columns:\n",
    "    print(col)"
   ]
  },
  {
   "cell_type": "code",
   "execution_count": 5,
   "metadata": {},
   "outputs": [
    {
     "data": {
      "text/plain": [
       "57"
      ]
     },
     "execution_count": 5,
     "metadata": {},
     "output_type": "execute_result"
    }
   ],
   "source": [
    "df.isnull().sum().sum()"
   ]
  },
  {
   "cell_type": "code",
   "execution_count": 6,
   "metadata": {},
   "outputs": [
    {
     "data": {
      "text/plain": [
       "(153631, 87)"
      ]
     },
     "execution_count": 6,
     "metadata": {},
     "output_type": "execute_result"
    }
   ],
   "source": [
    "df.shape"
   ]
  },
  {
   "cell_type": "code",
   "execution_count": 7,
   "metadata": {},
   "outputs": [],
   "source": [
    "df = df[df.notna().all(1)]"
   ]
  },
  {
   "cell_type": "code",
   "execution_count": 8,
   "metadata": {},
   "outputs": [
    {
     "data": {
      "text/plain": [
       "(153574, 87)"
      ]
     },
     "execution_count": 8,
     "metadata": {},
     "output_type": "execute_result"
    }
   ],
   "source": [
    "df.shape"
   ]
  },
  {
   "cell_type": "code",
   "execution_count": 9,
   "metadata": {},
   "outputs": [
    {
     "name": "stderr",
     "output_type": "stream",
     "text": [
      "/home/vinny/.local/lib/python3.8/site-packages/pandas/core/frame.py:4521: SettingWithCopyWarning: \n",
      "A value is trying to be set on a copy of a slice from a DataFrame\n",
      "\n",
      "See the caveats in the documentation: https://pandas.pydata.org/pandas-docs/stable/user_guide/indexing.html#returning-a-view-versus-a-copy\n",
      "  return super().replace(\n"
     ]
    },
    {
     "data": {
      "text/plain": [
       "5890"
      ]
     },
     "execution_count": 9,
     "metadata": {},
     "output_type": "execute_result"
    }
   ],
   "source": [
    "df.replace([np.inf, -np.inf], np.nan, inplace=True)\n",
    "df.isnull().sum().sum()"
   ]
  },
  {
   "cell_type": "code",
   "execution_count": 10,
   "metadata": {},
   "outputs": [
    {
     "data": {
      "text/plain": [
       "(150629, 87)"
      ]
     },
     "execution_count": 10,
     "metadata": {},
     "output_type": "execute_result"
    }
   ],
   "source": [
    "df = df[df.notna().all(1)]\n",
    "df.shape"
   ]
  },
  {
   "cell_type": "code",
   "execution_count": 11,
   "metadata": {
    "scrolled": true
   },
   "outputs": [
    {
     "data": {
      "text/plain": [
       "Label\n",
       "BENIGN           13623\n",
       "DrDoS_DNS        24523\n",
       "DrDoS_LDAP       10702\n",
       "DrDoS_MSSQL      21940\n",
       "DrDoS_NTP         5985\n",
       "DrDoS_NetBIOS    19783\n",
       "DrDoS_SNMP       25745\n",
       "DrDoS_SSDP       12867\n",
       "DrDoS_UDP        15461\n",
       "dtype: int64"
      ]
     },
     "execution_count": 11,
     "metadata": {},
     "output_type": "execute_result"
    }
   ],
   "source": [
    "df.groupby(['Label']).size()"
   ]
  },
  {
   "cell_type": "code",
   "execution_count": 12,
   "metadata": {},
   "outputs": [],
   "source": [
    "df.loc[df['Label'] != \"BENIGN\", 'Label'] = 'DDOS'"
   ]
  },
  {
   "cell_type": "code",
   "execution_count": 13,
   "metadata": {},
   "outputs": [
    {
     "data": {
      "text/plain": [
       "Label\n",
       "BENIGN     13623\n",
       "DDOS      137006\n",
       "dtype: int64"
      ]
     },
     "execution_count": 13,
     "metadata": {},
     "output_type": "execute_result"
    }
   ],
   "source": [
    "df.groupby(['Label']).size()"
   ]
  },
  {
   "cell_type": "code",
   "execution_count": 14,
   "metadata": {},
   "outputs": [],
   "source": [
    "lb = LabelBinarizer()\n",
    "df['Label'] = lb.fit_transform(df['Label'].values)\n"
   ]
  },
  {
   "cell_type": "code",
   "execution_count": 15,
   "metadata": {},
   "outputs": [
    {
     "data": {
      "text/plain": [
       "Label\n",
       "0     13623\n",
       "1    137006\n",
       "dtype: int64"
      ]
     },
     "execution_count": 15,
     "metadata": {},
     "output_type": "execute_result"
    }
   ],
   "source": [
    "df.groupby(['Label']).size()"
   ]
  },
  {
   "cell_type": "code",
   "execution_count": 16,
   "metadata": {
    "scrolled": true
   },
   "outputs": [
    {
     "name": "stdout",
     "output_type": "stream",
     "text": [
      "Flow ID              object\n",
      "Source IP            object\n",
      "Source Port           int64\n",
      "Destination IP       object\n",
      "Destination Port      int64\n",
      "                     ...   \n",
      "Idle Max            float64\n",
      "Idle Min            float64\n",
      "SimillarHTTP         object\n",
      "Inbound               int64\n",
      "Label                 int64\n",
      "Length: 87, dtype: object\n"
     ]
    }
   ],
   "source": [
    "dttype = df.dtypes\n",
    "print(dttype)"
   ]
  },
  {
   "cell_type": "code",
   "execution_count": 17,
   "metadata": {},
   "outputs": [
    {
     "name": "stdout",
     "output_type": "stream",
     "text": [
      "Flow ID\n",
      "Source IP\n",
      "Destination IP\n",
      "Timestamp\n",
      "SimillarHTTP\n"
     ]
    }
   ],
   "source": [
    "for col in df.columns:\n",
    "    if df[col].dtypes == 'object' :\n",
    "        print(col)"
   ]
  },
  {
   "cell_type": "code",
   "execution_count": 18,
   "metadata": {},
   "outputs": [],
   "source": [
    "df.drop('Flow ID', axis=1, inplace=True)\n",
    "df.drop('Source IP', axis=1, inplace=True)\n",
    "df.drop('Destination IP', axis=1, inplace=True)\n",
    "df.drop('Timestamp', axis=1, inplace=True)\n",
    "df.drop('SimillarHTTP', axis=1, inplace=True)\n",
    "df.drop('Source Port', axis=1, inplace=True)\n",
    "df.drop('Protocol', axis=1, inplace=True)\n",
    "df.drop('Flow Duration', axis=1, inplace=True)\n",
    "df.drop('Destination Port', axis=1, inplace=True)"
   ]
  },
  {
   "cell_type": "code",
   "execution_count": 19,
   "metadata": {},
   "outputs": [
    {
     "name": "stdout",
     "output_type": "stream",
     "text": [
      "Total Fwd Packets\n",
      "Total Backward Packets\n",
      "Total Length of Fwd Packets\n",
      "Total Length of Bwd Packets\n",
      "Fwd Packet Length Max\n",
      "Fwd Packet Length Min\n",
      "Fwd Packet Length Mean\n",
      "Fwd Packet Length Std\n",
      "Bwd Packet Length Max\n",
      "Bwd Packet Length Min\n",
      "Bwd Packet Length Mean\n",
      "Bwd Packet Length Std\n",
      "Flow Bytes/s\n",
      "Flow Packets/s\n",
      "Flow IAT Mean\n",
      "Flow IAT Std\n",
      "Flow IAT Max\n",
      "Flow IAT Min\n",
      "Fwd IAT Total\n",
      "Fwd IAT Mean\n",
      "Fwd IAT Std\n",
      "Fwd IAT Max\n",
      "Fwd IAT Min\n",
      "Bwd IAT Total\n",
      "Bwd IAT Mean\n",
      "Bwd IAT Std\n",
      "Bwd IAT Max\n",
      "Bwd IAT Min\n",
      "Fwd PSH Flags\n",
      "Bwd PSH Flags\n",
      "Fwd URG Flags\n",
      "Bwd URG Flags\n",
      "Fwd Header Length\n",
      "Bwd Header Length\n",
      "Fwd Packets/s\n",
      "Bwd Packets/s\n",
      "Min Packet Length\n",
      "Max Packet Length\n",
      "Packet Length Mean\n",
      "Packet Length Std\n",
      "Packet Length Variance\n",
      "FIN Flag Count\n",
      "SYN Flag Count\n",
      "RST Flag Count\n",
      "PSH Flag Count\n",
      "ACK Flag Count\n",
      "URG Flag Count\n",
      "CWE Flag Count\n",
      "ECE Flag Count\n",
      "Down/Up Ratio\n",
      "Average Packet Size\n",
      "Avg Fwd Segment Size\n",
      "Avg Bwd Segment Size\n",
      "Fwd Header Length.1\n",
      "Fwd Avg Bytes/Bulk\n",
      "Fwd Avg Packets/Bulk\n",
      "Fwd Avg Bulk Rate\n",
      "Bwd Avg Bytes/Bulk\n",
      "Bwd Avg Packets/Bulk\n",
      "Bwd Avg Bulk Rate\n",
      "Subflow Fwd Packets\n",
      "Subflow Fwd Bytes\n",
      "Subflow Bwd Packets\n",
      "Subflow Bwd Bytes\n",
      "Init_Win_bytes_forward\n",
      "Init_Win_bytes_backward\n",
      "act_data_pkt_fwd\n",
      "min_seg_size_forward\n",
      "Active Mean\n",
      "Active Std\n",
      "Active Max\n",
      "Active Min\n",
      "Idle Mean\n",
      "Idle Std\n",
      "Idle Max\n",
      "Idle Min\n",
      "Inbound\n",
      "Label\n"
     ]
    }
   ],
   "source": [
    "for col in df.columns:\n",
    "    print(col)"
   ]
  },
  {
   "cell_type": "code",
   "execution_count": 20,
   "metadata": {},
   "outputs": [
    {
     "data": {
      "text/plain": [
       "<bound method NDFrame.describe of         Total Fwd Packets  Total Backward Packets  \\\n",
       "0                       2                       2   \n",
       "1                       2                       0   \n",
       "2                       4                       0   \n",
       "3                       2                       2   \n",
       "4                       2                       0   \n",
       "...                   ...                     ...   \n",
       "153626                  4                       0   \n",
       "153627                  2                       0   \n",
       "153628                  4                       0   \n",
       "153629                  2                       0   \n",
       "153630                  2                       0   \n",
       "\n",
       "        Total Length of Fwd Packets  Total Length of Bwd Packets  \\\n",
       "0                               2.0                          0.0   \n",
       "1                               0.0                          0.0   \n",
       "2                               0.0                          0.0   \n",
       "3                              70.0                        102.0   \n",
       "4                               0.0                          0.0   \n",
       "...                             ...                          ...   \n",
       "153626                       1438.0                          0.0   \n",
       "153627                        802.0                          0.0   \n",
       "153628                       1438.0                          0.0   \n",
       "153629                        750.0                          0.0   \n",
       "153630                        688.0                          0.0   \n",
       "\n",
       "        Fwd Packet Length Max  Fwd Packet Length Min  Fwd Packet Length Mean  \\\n",
       "0                         1.0                    1.0                     1.0   \n",
       "1                         0.0                    0.0                     0.0   \n",
       "2                         0.0                    0.0                     0.0   \n",
       "3                        35.0                   35.0                    35.0   \n",
       "4                         0.0                    0.0                     0.0   \n",
       "...                       ...                    ...                     ...   \n",
       "153626                  389.0                  330.0                   359.5   \n",
       "153627                  401.0                  401.0                   401.0   \n",
       "153628                  389.0                  330.0                   359.5   \n",
       "153629                  375.0                  375.0                   375.0   \n",
       "153630                  344.0                  344.0                   344.0   \n",
       "\n",
       "        Fwd Packet Length Std  Bwd Packet Length Max  Bwd Packet Length Min  \\\n",
       "0                    0.000000                    0.0                    0.0   \n",
       "1                    0.000000                    0.0                    0.0   \n",
       "2                    0.000000                    0.0                    0.0   \n",
       "3                    0.000000                   51.0                   51.0   \n",
       "4                    0.000000                    0.0                    0.0   \n",
       "...                       ...                    ...                    ...   \n",
       "153626              34.063666                    0.0                    0.0   \n",
       "153627               0.000000                    0.0                    0.0   \n",
       "153628              34.063666                    0.0                    0.0   \n",
       "153629               0.000000                    0.0                    0.0   \n",
       "153630               0.000000                    0.0                    0.0   \n",
       "\n",
       "        ...  Active Mean  Active Std  Active Max  Active Min  Idle Mean  \\\n",
       "0       ...          0.0         0.0         0.0         0.0        0.0   \n",
       "1       ...          0.0         0.0         0.0         0.0        0.0   \n",
       "2       ...          1.0         0.0         1.0         1.0  6005916.0   \n",
       "3       ...          0.0         0.0         0.0         0.0        0.0   \n",
       "4       ...          0.0         0.0         0.0         0.0        0.0   \n",
       "...     ...          ...         ...         ...         ...        ...   \n",
       "153626  ...          0.0         0.0         0.0         0.0        0.0   \n",
       "153627  ...          0.0         0.0         0.0         0.0        0.0   \n",
       "153628  ...          0.0         0.0         0.0         0.0        0.0   \n",
       "153629  ...          0.0         0.0         0.0         0.0        0.0   \n",
       "153630  ...          0.0         0.0         0.0         0.0        0.0   \n",
       "\n",
       "        Idle Std   Idle Max   Idle Min  Inbound  Label  \n",
       "0            0.0        0.0        0.0        0      0  \n",
       "1            0.0        0.0        0.0        0      0  \n",
       "2            0.0  6005916.0  6005916.0        1      0  \n",
       "3            0.0        0.0        0.0        0      0  \n",
       "4            0.0        0.0        0.0        1      0  \n",
       "...          ...        ...        ...      ...    ...  \n",
       "153626       0.0        0.0        0.0        1      1  \n",
       "153627       0.0        0.0        0.0        1      1  \n",
       "153628       0.0        0.0        0.0        1      1  \n",
       "153629       0.0        0.0        0.0        1      1  \n",
       "153630       0.0        0.0        0.0        1      1  \n",
       "\n",
       "[150629 rows x 78 columns]>"
      ]
     },
     "execution_count": 20,
     "metadata": {},
     "output_type": "execute_result"
    }
   ],
   "source": [
    "df.describe"
   ]
  },
  {
   "cell_type": "code",
   "execution_count": 21,
   "metadata": {},
   "outputs": [],
   "source": [
    "df_shuffle = shuffle(df, random_state=None).reset_index(drop=True)\n",
    "\n",
    "int_80 = int(df_shuffle.shape[0] * 0.8)\n",
    "\n",
    "df_80 = df_shuffle.loc[:int_80, :]\n",
    "df_20 = df_shuffle.loc[int_80:, :]"
   ]
  },
  {
   "cell_type": "code",
   "execution_count": 22,
   "metadata": {},
   "outputs": [],
   "source": [
    "x_train = df_80.drop('Label',1)\n",
    "y_train = df_80.Label\n",
    "x_test = df_20.drop('Label',1)\n",
    "y_test = df_20.Label"
   ]
  },
  {
   "cell_type": "code",
   "execution_count": 23,
   "metadata": {},
   "outputs": [],
   "source": [
    "column_names = list(x_train)\n",
    "column_names_test = list(x_test)"
   ]
  },
  {
   "cell_type": "code",
   "execution_count": 24,
   "metadata": {},
   "outputs": [],
   "source": [
    "x_train.fillna(x_train.mean(), inplace=True)\n",
    "x_test.fillna(x_test.mean(), inplace=True)\n",
    "# Feature scaling to make sure our basic results for feature selection are correct\n",
    "scaler_train = preprocessing.StandardScaler().fit(x_train)\n",
    "x_train = scaler_train.transform(x_train)\n",
    "scaler_test = preprocessing.StandardScaler().fit(x_test)\n",
    "x_test = scaler_test.transform(x_test)"
   ]
  },
  {
   "cell_type": "code",
   "execution_count": 25,
   "metadata": {},
   "outputs": [
    {
     "name": "stdout",
     "output_type": "stream",
     "text": [
      "[1. 1. 1. 1. 1. 1. 1. 1. 1. 1. 1. 1. 1. 1. 1. 1. 1. 1. 1. 1. 1. 1. 1. 1.\n",
      " 1. 1. 1. 1. 1. 0. 0. 0. 1. 1. 1. 1. 1. 1. 1. 1. 1. 0. 1. 1. 0. 1. 1. 1.\n",
      " 0. 1. 1. 1. 1. 1. 0. 0. 0. 0. 0. 0. 1. 1. 1. 1. 1. 1. 1. 1. 1. 1. 1. 1.\n",
      " 1. 1. 1. 1. 1.]\n"
     ]
    }
   ],
   "source": [
    "print(x_train.std(axis=0))"
   ]
  },
  {
   "cell_type": "code",
   "execution_count": 26,
   "metadata": {},
   "outputs": [],
   "source": [
    "# No NaN value in train and test!\n",
    "where_are_NaNs = np.isnan(x_train)\n",
    "x_train[where_are_NaNs] = 0\n",
    "where_are_NaNs = np.isnan(x_test)\n",
    "x_test[where_are_NaNs] = 0"
   ]
  },
  {
   "cell_type": "code",
   "execution_count": 27,
   "metadata": {},
   "outputs": [
    {
     "data": {
      "text/plain": [
       "RFECV(cv=10, estimator=DecisionTreeClassifier(random_state=0),\n",
       "      scoring='accuracy')"
      ]
     },
     "execution_count": 27,
     "metadata": {},
     "output_type": "execute_result"
    }
   ],
   "source": [
    "feature_selection_model=DecisionTreeClassifier(random_state=0)\n",
    "feature_selection_model.fit(x_train, y_train.astype('int'))\n",
    "feature_selector = RFECV(estimator=feature_selection_model, step=1, cv=10, scoring='accuracy')\n",
    "feature_selector.fit(x_test, y_test)"
   ]
  },
  {
   "cell_type": "code",
   "execution_count": 38,
   "metadata": {},
   "outputs": [
    {
     "data": {
      "image/png": "[encoded data removed]",
      "text/plain": [
       "<Figure size 504x504 with 1 Axes>"
      ]
     },
     "metadata": {
      "needs_background": "light"
     },
     "output_type": "display_data"
    }
   ],
   "source": [
    "plt.figure(figsize=(7,7))\n",
    "plt.xlabel(\"Número de características\")\n",
    "plt.ylabel(\"Score de validação cruzada\")\n",
    "plt.title('Classificações por caractisticas')\n",
    "plt.plot(range(1, len(feature_selector.grid_scores_) + 1), feature_selector.grid_scores_)\n",
    "plt.savefig('graf_carac.png')"
   ]
  },
  {
   "cell_type": "code",
   "execution_count": 39,
   "metadata": {},
   "outputs": [
    {
     "name": "stdout",
     "output_type": "stream",
     "text": [
      "Selected features:  ['Flow Bytes/s', 'Flow Packets/s', 'Flow IAT Max', 'Flow IAT Min', 'Fwd IAT Total', 'Fwd IAT Min', 'Bwd IAT Mean', 'Bwd Packets/s', 'Min Packet Length', 'URG Flag Count', 'Down/Up Ratio', 'Average Packet Size', 'Avg Fwd Segment Size', 'Avg Bwd Segment Size', 'Subflow Fwd Packets', 'Subflow Bwd Packets', 'Init_Win_bytes_forward', 'Init_Win_bytes_backward', 'Idle Min', 'Inbound']\n"
     ]
    }
   ],
   "source": [
    "decision_tree = DecisionTreeClassifier(random_state=0)\n",
    "rfe = RFE(estimator=decision_tree, n_features_to_select=20, step=1)\n",
    "rfe.fit(x_train, y_train.astype('int'))\n",
    "true=rfe.support_\n",
    "rfe_feature_index = [i for i, x in enumerate(true) if x]\n",
    "rfe_feature_names = list(column_names[i] for i in rfe_feature_index)\n",
    "print('Selected features: ', rfe_feature_names)"
   ]
  },
  {
   "cell_type": "code",
   "execution_count": null,
   "metadata": {},
   "outputs": [],
   "source": []
  }
 ],
 "metadata": {
  "kernelspec": {
   "display_name": "Python 3",
   "language": "python",
   "name": "python3"
  },
  "language_info": {
   "codemirror_mode": {
    "name": "ipython",
    "version": 3
   },
   "file_extension": ".py",
   "mimetype": "text/x-python",
   "name": "python",
   "nbconvert_exporter": "python",
   "pygments_lexer": "ipython3",
   "version": "3.8.5"
  }
 },
 "nbformat": 4,
 "nbformat_minor": 4
}
